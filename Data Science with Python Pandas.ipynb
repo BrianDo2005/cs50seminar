{
 "cells": [
  {
   "cell_type": "markdown",
   "metadata": {},
   "source": [
    "# Data Science with Python Pandas"
   ]
  },
  {
   "cell_type": "markdown",
   "metadata": {},
   "source": [
    "## Exploring Series"
   ]
  },
  {
   "cell_type": "raw",
   "metadata": {
    "collapsed": true
   },
   "source": [
    "import pandas as pd\n",
    "import numpy as np"
   ]
  },
  {
   "cell_type": "code",
   "execution_count": 2,
   "metadata": {
    "collapsed": false
   },
   "outputs": [
    {
     "data": {
      "text/plain": [
       "a   -0.468308\n",
       "b    0.058556\n",
       "c   -0.407366\n",
       "d   -0.580641\n",
       "e    2.074351\n",
       "dtype: float64"
      ]
     },
     "execution_count": 2,
     "metadata": {},
     "output_type": "execute_result"
    }
   ],
   "source": [
    "# Create a series\n",
    "pd.Series(np.random.randn(5), index=['a', 'b', 'c', 'd', 'e'])"
   ]
  },
  {
   "cell_type": "code",
   "execution_count": 3,
   "metadata": {
    "collapsed": false
   },
   "outputs": [
    {
     "name": "stdout",
     "output_type": "stream",
     "text": [
      "0   -1.248717\n",
      "1    0.147440\n",
      "2    1.151380\n",
      "3   -1.215721\n",
      "4    0.556176\n",
      "dtype: float64\n"
     ]
    }
   ],
   "source": [
    "# Preserve the series in variable s for later access\n",
    "s = pd.Series(np.random.randn(5))\n",
    "print(s)"
   ]
  },
  {
   "cell_type": "code",
   "execution_count": 4,
   "metadata": {
    "collapsed": false
   },
   "outputs": [
    {
     "name": "stdout",
     "output_type": "stream",
     "text": [
      "-1.24871729713\n",
      "\n",
      "\n",
      "0   -1.248717\n",
      "1    0.147440\n",
      "2    1.151380\n",
      "dtype: float64\n"
     ]
    }
   ],
   "source": [
    "# Index\n",
    "print (s[0])\n",
    "print(\"\\n\")\n",
    "print (s[:3])"
   ]
  },
  {
   "cell_type": "markdown",
   "metadata": {},
   "source": [
    "## Exploring DataFrames"
   ]
  },
  {
   "cell_type": "code",
   "execution_count": 5,
   "metadata": {
    "collapsed": false
   },
   "outputs": [
    {
     "data": {
      "text/html": [
       "<div>\n",
       "<table border=\"1\" class=\"dataframe\">\n",
       "  <thead>\n",
       "    <tr style=\"text-align: right;\">\n",
       "      <th></th>\n",
       "      <th>Column 1</th>\n",
       "    </tr>\n",
       "  </thead>\n",
       "  <tbody>\n",
       "    <tr>\n",
       "      <th>0</th>\n",
       "      <td>-1.248717</td>\n",
       "    </tr>\n",
       "    <tr>\n",
       "      <th>1</th>\n",
       "      <td>0.147440</td>\n",
       "    </tr>\n",
       "    <tr>\n",
       "      <th>2</th>\n",
       "      <td>1.151380</td>\n",
       "    </tr>\n",
       "    <tr>\n",
       "      <th>3</th>\n",
       "      <td>-1.215721</td>\n",
       "    </tr>\n",
       "    <tr>\n",
       "      <th>4</th>\n",
       "      <td>0.556176</td>\n",
       "    </tr>\n",
       "  </tbody>\n",
       "</table>\n",
       "</div>"
      ],
      "text/plain": [
       "   Column 1\n",
       "0 -1.248717\n",
       "1  0.147440\n",
       "2  1.151380\n",
       "3 -1.215721\n",
       "4  0.556176"
      ]
     },
     "execution_count": 5,
     "metadata": {},
     "output_type": "execute_result"
    }
   ],
   "source": [
    "# Create a dataframe\n",
    "df = pd.DataFrame(s, columns = ['Column 1'])\n",
    "df"
   ]
  },
  {
   "cell_type": "code",
   "execution_count": 6,
   "metadata": {
    "collapsed": false
   },
   "outputs": [
    {
     "data": {
      "text/plain": [
       "0   -1.248717\n",
       "1    0.147440\n",
       "2    1.151380\n",
       "3   -1.215721\n",
       "4    0.556176\n",
       "Name: Column 1, dtype: float64"
      ]
     },
     "execution_count": 6,
     "metadata": {},
     "output_type": "execute_result"
    }
   ],
   "source": [
    "# Can access columns by name\n",
    "df['Column 1']"
   ]
  },
  {
   "cell_type": "code",
   "execution_count": 7,
   "metadata": {
    "collapsed": false
   },
   "outputs": [
    {
     "data": {
      "text/html": [
       "<div>\n",
       "<table border=\"1\" class=\"dataframe\">\n",
       "  <thead>\n",
       "    <tr style=\"text-align: right;\">\n",
       "      <th></th>\n",
       "      <th>Column 1</th>\n",
       "      <th>Column 2</th>\n",
       "    </tr>\n",
       "  </thead>\n",
       "  <tbody>\n",
       "    <tr>\n",
       "      <th>0</th>\n",
       "      <td>-1.248717</td>\n",
       "      <td>-4.994869</td>\n",
       "    </tr>\n",
       "    <tr>\n",
       "      <th>1</th>\n",
       "      <td>0.147440</td>\n",
       "      <td>0.589762</td>\n",
       "    </tr>\n",
       "    <tr>\n",
       "      <th>2</th>\n",
       "      <td>1.151380</td>\n",
       "      <td>4.605521</td>\n",
       "    </tr>\n",
       "    <tr>\n",
       "      <th>3</th>\n",
       "      <td>-1.215721</td>\n",
       "      <td>-4.862885</td>\n",
       "    </tr>\n",
       "    <tr>\n",
       "      <th>4</th>\n",
       "      <td>0.556176</td>\n",
       "      <td>2.224703</td>\n",
       "    </tr>\n",
       "  </tbody>\n",
       "</table>\n",
       "</div>"
      ],
      "text/plain": [
       "   Column 1  Column 2\n",
       "0 -1.248717 -4.994869\n",
       "1  0.147440  0.589762\n",
       "2  1.151380  4.605521\n",
       "3 -1.215721 -4.862885\n",
       "4  0.556176  2.224703"
      ]
     },
     "execution_count": 7,
     "metadata": {},
     "output_type": "execute_result"
    }
   ],
   "source": [
    "# Easy to add columns\n",
    "df['Column 2'] = df['Column 1'] * 4\n",
    "df"
   ]
  },
  {
   "cell_type": "code",
   "execution_count": 8,
   "metadata": {
    "collapsed": false
   },
   "outputs": [
    {
     "data": {
      "text/html": [
       "<div>\n",
       "<table border=\"1\" class=\"dataframe\">\n",
       "  <thead>\n",
       "    <tr style=\"text-align: right;\">\n",
       "      <th></th>\n",
       "      <th>Column 1</th>\n",
       "      <th>Column 2</th>\n",
       "    </tr>\n",
       "  </thead>\n",
       "  <tbody>\n",
       "    <tr>\n",
       "      <th>0</th>\n",
       "      <td>-1.248717</td>\n",
       "      <td>-4.994869</td>\n",
       "    </tr>\n",
       "    <tr>\n",
       "      <th>3</th>\n",
       "      <td>-1.215721</td>\n",
       "      <td>-4.862885</td>\n",
       "    </tr>\n",
       "    <tr>\n",
       "      <th>1</th>\n",
       "      <td>0.147440</td>\n",
       "      <td>0.589762</td>\n",
       "    </tr>\n",
       "    <tr>\n",
       "      <th>4</th>\n",
       "      <td>0.556176</td>\n",
       "      <td>2.224703</td>\n",
       "    </tr>\n",
       "    <tr>\n",
       "      <th>2</th>\n",
       "      <td>1.151380</td>\n",
       "      <td>4.605521</td>\n",
       "    </tr>\n",
       "  </tbody>\n",
       "</table>\n",
       "</div>"
      ],
      "text/plain": [
       "   Column 1  Column 2\n",
       "0 -1.248717 -4.994869\n",
       "3 -1.215721 -4.862885\n",
       "1  0.147440  0.589762\n",
       "4  0.556176  2.224703\n",
       "2  1.151380  4.605521"
      ]
     },
     "execution_count": 8,
     "metadata": {},
     "output_type": "execute_result"
    }
   ],
   "source": [
    "# Other manipulation, like sorting -- if you want to preserve, set equal to a var\n",
    "df.sort_values(by = 'Column 2')"
   ]
  },
  {
   "cell_type": "code",
   "execution_count": 9,
   "metadata": {
    "collapsed": false
   },
   "outputs": [
    {
     "data": {
      "text/html": [
       "<div>\n",
       "<table border=\"1\" class=\"dataframe\">\n",
       "  <thead>\n",
       "    <tr style=\"text-align: right;\">\n",
       "      <th></th>\n",
       "      <th>Column 1</th>\n",
       "      <th>Column 2</th>\n",
       "    </tr>\n",
       "  </thead>\n",
       "  <tbody>\n",
       "    <tr>\n",
       "      <th>0</th>\n",
       "      <td>-1.248717</td>\n",
       "      <td>-4.994869</td>\n",
       "    </tr>\n",
       "    <tr>\n",
       "      <th>1</th>\n",
       "      <td>0.147440</td>\n",
       "      <td>0.589762</td>\n",
       "    </tr>\n",
       "    <tr>\n",
       "      <th>3</th>\n",
       "      <td>-1.215721</td>\n",
       "      <td>-4.862885</td>\n",
       "    </tr>\n",
       "  </tbody>\n",
       "</table>\n",
       "</div>"
      ],
      "text/plain": [
       "   Column 1  Column 2\n",
       "0 -1.248717 -4.994869\n",
       "1  0.147440  0.589762\n",
       "3 -1.215721 -4.862885"
      ]
     },
     "execution_count": 9,
     "metadata": {},
     "output_type": "execute_result"
    }
   ],
   "source": [
    "# Boolean indexing\n",
    "df[df['Column 2'] <= 2]"
   ]
  },
  {
   "cell_type": "code",
   "execution_count": 10,
   "metadata": {
    "collapsed": false
   },
   "outputs": [
    {
     "data": {
      "text/plain": [
       "Column 1   -0.121888\n",
       "Column 2   -0.487554\n",
       "dtype: float64"
      ]
     },
     "execution_count": 10,
     "metadata": {},
     "output_type": "execute_result"
    }
   ],
   "source": [
    "df.apply(lambda x: min(x) + max(x))\n",
    "np.mean(df)"
   ]
  },
  {
   "cell_type": "code",
   "execution_count": 11,
   "metadata": {
    "collapsed": false
   },
   "outputs": [],
   "source": [
    "table = df.describe()\n"
   ]
  },
  {
   "cell_type": "markdown",
   "metadata": {},
   "source": [
    "## Exploring a Dataset"
   ]
  },
  {
   "cell_type": "code",
   "execution_count": 12,
   "metadata": {
    "collapsed": true
   },
   "outputs": [],
   "source": [
    "import matplotlib.pyplot as plt\n",
    "% matplotlib inline\n",
    "plt.style.use('ggplot')"
   ]
  },
  {
   "cell_type": "code",
   "execution_count": 13,
   "metadata": {
    "collapsed": false,
    "nbpresent": {
     "id": "2d696191-7015-445c-8426-35c6809ac315"
    }
   },
   "outputs": [
    {
     "data": {
      "text/html": [
       "<div>\n",
       "<table border=\"1\" class=\"dataframe\">\n",
       "  <thead>\n",
       "    <tr style=\"text-align: right;\">\n",
       "      <th></th>\n",
       "      <th>dt</th>\n",
       "      <th>LandAverageTemperature</th>\n",
       "      <th>LandAverageTemperatureUncertainty</th>\n",
       "      <th>LandMaxTemperature</th>\n",
       "      <th>LandMaxTemperatureUncertainty</th>\n",
       "      <th>LandMinTemperature</th>\n",
       "      <th>LandMinTemperatureUncertainty</th>\n",
       "      <th>LandAndOceanAverageTemperature</th>\n",
       "      <th>LandAndOceanAverageTemperatureUncertainty</th>\n",
       "    </tr>\n",
       "  </thead>\n",
       "  <tbody>\n",
       "    <tr>\n",
       "      <th>3182</th>\n",
       "      <td>2015-03-01</td>\n",
       "      <td>6.740</td>\n",
       "      <td>0.060</td>\n",
       "      <td>12.659</td>\n",
       "      <td>0.096</td>\n",
       "      <td>0.894</td>\n",
       "      <td>0.079</td>\n",
       "      <td>15.193</td>\n",
       "      <td>0.061</td>\n",
       "    </tr>\n",
       "    <tr>\n",
       "      <th>3183</th>\n",
       "      <td>2015-04-01</td>\n",
       "      <td>9.313</td>\n",
       "      <td>0.088</td>\n",
       "      <td>15.224</td>\n",
       "      <td>0.137</td>\n",
       "      <td>3.402</td>\n",
       "      <td>0.147</td>\n",
       "      <td>15.962</td>\n",
       "      <td>0.061</td>\n",
       "    </tr>\n",
       "    <tr>\n",
       "      <th>3184</th>\n",
       "      <td>2015-05-01</td>\n",
       "      <td>12.312</td>\n",
       "      <td>0.081</td>\n",
       "      <td>18.181</td>\n",
       "      <td>0.117</td>\n",
       "      <td>6.313</td>\n",
       "      <td>0.153</td>\n",
       "      <td>16.774</td>\n",
       "      <td>0.058</td>\n",
       "    </tr>\n",
       "    <tr>\n",
       "      <th>3185</th>\n",
       "      <td>2015-06-01</td>\n",
       "      <td>14.505</td>\n",
       "      <td>0.068</td>\n",
       "      <td>20.364</td>\n",
       "      <td>0.133</td>\n",
       "      <td>8.627</td>\n",
       "      <td>0.168</td>\n",
       "      <td>17.390</td>\n",
       "      <td>0.057</td>\n",
       "    </tr>\n",
       "    <tr>\n",
       "      <th>3186</th>\n",
       "      <td>2015-07-01</td>\n",
       "      <td>15.051</td>\n",
       "      <td>0.086</td>\n",
       "      <td>20.904</td>\n",
       "      <td>0.109</td>\n",
       "      <td>9.326</td>\n",
       "      <td>0.225</td>\n",
       "      <td>17.611</td>\n",
       "      <td>0.058</td>\n",
       "    </tr>\n",
       "    <tr>\n",
       "      <th>3187</th>\n",
       "      <td>2015-08-01</td>\n",
       "      <td>14.755</td>\n",
       "      <td>0.072</td>\n",
       "      <td>20.699</td>\n",
       "      <td>0.110</td>\n",
       "      <td>9.005</td>\n",
       "      <td>0.170</td>\n",
       "      <td>17.589</td>\n",
       "      <td>0.057</td>\n",
       "    </tr>\n",
       "    <tr>\n",
       "      <th>3188</th>\n",
       "      <td>2015-09-01</td>\n",
       "      <td>12.999</td>\n",
       "      <td>0.079</td>\n",
       "      <td>18.845</td>\n",
       "      <td>0.088</td>\n",
       "      <td>7.199</td>\n",
       "      <td>0.229</td>\n",
       "      <td>17.049</td>\n",
       "      <td>0.058</td>\n",
       "    </tr>\n",
       "    <tr>\n",
       "      <th>3189</th>\n",
       "      <td>2015-10-01</td>\n",
       "      <td>10.801</td>\n",
       "      <td>0.102</td>\n",
       "      <td>16.450</td>\n",
       "      <td>0.059</td>\n",
       "      <td>5.232</td>\n",
       "      <td>0.115</td>\n",
       "      <td>16.290</td>\n",
       "      <td>0.062</td>\n",
       "    </tr>\n",
       "    <tr>\n",
       "      <th>3190</th>\n",
       "      <td>2015-11-01</td>\n",
       "      <td>7.433</td>\n",
       "      <td>0.119</td>\n",
       "      <td>12.892</td>\n",
       "      <td>0.093</td>\n",
       "      <td>2.157</td>\n",
       "      <td>0.106</td>\n",
       "      <td>15.252</td>\n",
       "      <td>0.063</td>\n",
       "    </tr>\n",
       "    <tr>\n",
       "      <th>3191</th>\n",
       "      <td>2015-12-01</td>\n",
       "      <td>5.518</td>\n",
       "      <td>0.100</td>\n",
       "      <td>10.725</td>\n",
       "      <td>0.154</td>\n",
       "      <td>0.287</td>\n",
       "      <td>0.099</td>\n",
       "      <td>14.774</td>\n",
       "      <td>0.062</td>\n",
       "    </tr>\n",
       "  </tbody>\n",
       "</table>\n",
       "</div>"
      ],
      "text/plain": [
       "              dt  LandAverageTemperature  LandAverageTemperatureUncertainty  \\\n",
       "3182  2015-03-01                   6.740                              0.060   \n",
       "3183  2015-04-01                   9.313                              0.088   \n",
       "3184  2015-05-01                  12.312                              0.081   \n",
       "3185  2015-06-01                  14.505                              0.068   \n",
       "3186  2015-07-01                  15.051                              0.086   \n",
       "3187  2015-08-01                  14.755                              0.072   \n",
       "3188  2015-09-01                  12.999                              0.079   \n",
       "3189  2015-10-01                  10.801                              0.102   \n",
       "3190  2015-11-01                   7.433                              0.119   \n",
       "3191  2015-12-01                   5.518                              0.100   \n",
       "\n",
       "      LandMaxTemperature  LandMaxTemperatureUncertainty  LandMinTemperature  \\\n",
       "3182              12.659                          0.096               0.894   \n",
       "3183              15.224                          0.137               3.402   \n",
       "3184              18.181                          0.117               6.313   \n",
       "3185              20.364                          0.133               8.627   \n",
       "3186              20.904                          0.109               9.326   \n",
       "3187              20.699                          0.110               9.005   \n",
       "3188              18.845                          0.088               7.199   \n",
       "3189              16.450                          0.059               5.232   \n",
       "3190              12.892                          0.093               2.157   \n",
       "3191              10.725                          0.154               0.287   \n",
       "\n",
       "      LandMinTemperatureUncertainty  LandAndOceanAverageTemperature  \\\n",
       "3182                          0.079                          15.193   \n",
       "3183                          0.147                          15.962   \n",
       "3184                          0.153                          16.774   \n",
       "3185                          0.168                          17.390   \n",
       "3186                          0.225                          17.611   \n",
       "3187                          0.170                          17.589   \n",
       "3188                          0.229                          17.049   \n",
       "3189                          0.115                          16.290   \n",
       "3190                          0.106                          15.252   \n",
       "3191                          0.099                          14.774   \n",
       "\n",
       "      LandAndOceanAverageTemperatureUncertainty  \n",
       "3182                                      0.061  \n",
       "3183                                      0.061  \n",
       "3184                                      0.058  \n",
       "3185                                      0.057  \n",
       "3186                                      0.058  \n",
       "3187                                      0.057  \n",
       "3188                                      0.058  \n",
       "3189                                      0.062  \n",
       "3190                                      0.063  \n",
       "3191                                      0.062  "
      ]
     },
     "execution_count": 13,
     "metadata": {},
     "output_type": "execute_result"
    }
   ],
   "source": [
    "# Read in data into a dataframe\n",
    "df = pd.read_csv('GlobalTemperatures.csv')\n",
    "\n",
    "# Show the first 5 rows of the table\n",
    "df.tail(10)"
   ]
  },
  {
   "cell_type": "code",
   "execution_count": 14,
   "metadata": {
    "collapsed": false,
    "nbpresent": {
     "id": "d039a9d3-37b3-48c5-b6e9-586fd2f8a0a4"
    }
   },
   "outputs": [
    {
     "data": {
      "text/html": [
       "<div>\n",
       "<table border=\"1\" class=\"dataframe\">\n",
       "  <thead>\n",
       "    <tr style=\"text-align: right;\">\n",
       "      <th></th>\n",
       "      <th>dt</th>\n",
       "      <th>LandAverageTemperature</th>\n",
       "    </tr>\n",
       "  </thead>\n",
       "  <tbody>\n",
       "    <tr>\n",
       "      <th>0</th>\n",
       "      <td>1750-01-01</td>\n",
       "      <td>3.034</td>\n",
       "    </tr>\n",
       "    <tr>\n",
       "      <th>1</th>\n",
       "      <td>1750-02-01</td>\n",
       "      <td>3.083</td>\n",
       "    </tr>\n",
       "    <tr>\n",
       "      <th>2</th>\n",
       "      <td>1750-03-01</td>\n",
       "      <td>5.626</td>\n",
       "    </tr>\n",
       "    <tr>\n",
       "      <th>3</th>\n",
       "      <td>1750-04-01</td>\n",
       "      <td>8.490</td>\n",
       "    </tr>\n",
       "    <tr>\n",
       "      <th>4</th>\n",
       "      <td>1750-05-01</td>\n",
       "      <td>11.573</td>\n",
       "    </tr>\n",
       "  </tbody>\n",
       "</table>\n",
       "</div>"
      ],
      "text/plain": [
       "           dt  LandAverageTemperature\n",
       "0  1750-01-01                   3.034\n",
       "1  1750-02-01                   3.083\n",
       "2  1750-03-01                   5.626\n",
       "3  1750-04-01                   8.490\n",
       "4  1750-05-01                  11.573"
      ]
     },
     "execution_count": 14,
     "metadata": {},
     "output_type": "execute_result"
    }
   ],
   "source": [
    "# Let's just consider the LandAverageTemperature\n",
    "# \"A primarily label-location based indexer\"\n",
    "df = df.ix[:,:2]\n",
    "df.head()"
   ]
  },
  {
   "cell_type": "code",
   "execution_count": 30,
   "metadata": {
    "collapsed": false,
    "nbpresent": {
     "id": "70e7a423-3012-457d-a1ae-ba5a390274a8"
    }
   },
   "outputs": [
    {
     "data": {
      "text/html": [
       "<div>\n",
       "<table border=\"1\" class=\"dataframe\">\n",
       "  <thead>\n",
       "    <tr style=\"text-align: right;\">\n",
       "      <th></th>\n",
       "      <th>LandAverageTemperature</th>\n",
       "    </tr>\n",
       "  </thead>\n",
       "  <tbody>\n",
       "    <tr>\n",
       "      <th>count</th>\n",
       "      <td>3192.000000</td>\n",
       "    </tr>\n",
       "    <tr>\n",
       "      <th>mean</th>\n",
       "      <td>8.375063</td>\n",
       "    </tr>\n",
       "    <tr>\n",
       "      <th>std</th>\n",
       "      <td>4.377168</td>\n",
       "    </tr>\n",
       "    <tr>\n",
       "      <th>min</th>\n",
       "      <td>-2.080000</td>\n",
       "    </tr>\n",
       "    <tr>\n",
       "      <th>25%</th>\n",
       "      <td>4.326500</td>\n",
       "    </tr>\n",
       "    <tr>\n",
       "      <th>50%</th>\n",
       "      <td>8.599000</td>\n",
       "    </tr>\n",
       "    <tr>\n",
       "      <th>75%</th>\n",
       "      <td>12.547000</td>\n",
       "    </tr>\n",
       "    <tr>\n",
       "      <th>max</th>\n",
       "      <td>19.021000</td>\n",
       "    </tr>\n",
       "  </tbody>\n",
       "</table>\n",
       "</div>"
      ],
      "text/plain": [
       "       LandAverageTemperature\n",
       "count             3192.000000\n",
       "mean                 8.375063\n",
       "std                  4.377168\n",
       "min                 -2.080000\n",
       "25%                  4.326500\n",
       "50%                  8.599000\n",
       "75%                 12.547000\n",
       "max                 19.021000"
      ]
     },
     "execution_count": 30,
     "metadata": {},
     "output_type": "execute_result"
    }
   ],
   "source": [
    "df.describe()"
   ]
  },
  {
   "cell_type": "code",
   "execution_count": 16,
   "metadata": {
    "collapsed": false,
    "nbpresent": {
     "id": "246ab714-ce25-42f2-8667-7a272a2734fd"
    }
   },
   "outputs": [
    {
     "data": {
      "image/png": "[encoded data removed]",
      "text/plain": [
       "<matplotlib.figure.Figure at 0x1127e6490>"
      ]
     },
     "metadata": {},
     "output_type": "display_data"
    }
   ],
   "source": [
    "# Cursory plot\n",
    "plt.figure(figsize = (15, 5))\n",
    "plt.scatter(x = df['LandAverageTemperature'].index, y = df['LandAverageTemperature'])\n",
    "plt.title(\"Average Land Temperature 1750-2015\")\n",
    "plt.xlabel(\"Year\")\n",
    "plt.ylabel(\"Average Land Temperature\")\n",
    "plt.show()"
   ]
  },
  {
   "cell_type": "code",
   "execution_count": 17,
   "metadata": {
    "collapsed": false,
    "nbpresent": {
     "id": "ec20b8c1-90f1-4e12-bff5-8fe555923c77"
    }
   },
   "outputs": [
    {
     "name": "stdout",
     "output_type": "stream",
     "text": [
      "<type 'str'>\n"
     ]
    }
   ],
   "source": [
    "# Maybe we can try only by year?\n",
    "# But notice that the dt column is made up of strings\n",
    "print(type(df['dt'][0]))"
   ]
  },
  {
   "cell_type": "code",
   "execution_count": 18,
   "metadata": {
    "collapsed": false,
    "nbpresent": {
     "id": "974edbc8-b2c7-45e7-8f0d-be63e240d7c8"
    }
   },
   "outputs": [],
   "source": [
    "# Convert to datetime object\n",
    "times = pd.DatetimeIndex(df['dt'])\n",
    "\n",
    "# Group by year\n",
    "grouped = df.groupby([times.year]).mean()"
   ]
  },
  {
   "cell_type": "code",
   "execution_count": 19,
   "metadata": {
    "collapsed": false,
    "nbpresent": {
     "id": "6d4744d1-cbe3-4b0e-b033-7989b1c40354"
    }
   },
   "outputs": [
    {
     "data": {
      "image/png": "[encoded data removed]",
      "text/plain": [
       "<matplotlib.figure.Figure at 0x115aa9f90>"
      ]
     },
     "metadata": {},
     "output_type": "display_data"
    }
   ],
   "source": [
    "# Plot\n",
    "plt.figure(figsize = (15, 5))\n",
    "plt.plot(grouped['LandAverageTemperature'])\n",
    "\n",
    "# Change features of the graph\n",
    "plt.title(\"Yearly Average Land Temperature 1750-2015\")\n",
    "plt.xlabel(\"Year\")\n",
    "plt.ylabel(\"Yearly Average Land Temperature\")\n",
    "plt.show()"
   ]
  },
  {
   "cell_type": "code",
   "execution_count": 20,
   "metadata": {
    "collapsed": false
   },
   "outputs": [
    {
     "data": {
      "text/html": [
       "<div>\n",
       "<table border=\"1\" class=\"dataframe\">\n",
       "  <thead>\n",
       "    <tr style=\"text-align: right;\">\n",
       "      <th></th>\n",
       "      <th>LandAverageTemperature</th>\n",
       "    </tr>\n",
       "  </thead>\n",
       "  <tbody>\n",
       "    <tr>\n",
       "      <th>1750</th>\n",
       "      <td>8.719364</td>\n",
       "    </tr>\n",
       "    <tr>\n",
       "      <th>1751</th>\n",
       "      <td>7.976143</td>\n",
       "    </tr>\n",
       "    <tr>\n",
       "      <th>1752</th>\n",
       "      <td>5.779833</td>\n",
       "    </tr>\n",
       "    <tr>\n",
       "      <th>1753</th>\n",
       "      <td>8.388083</td>\n",
       "    </tr>\n",
       "    <tr>\n",
       "      <th>1754</th>\n",
       "      <td>8.469333</td>\n",
       "    </tr>\n",
       "  </tbody>\n",
       "</table>\n",
       "</div>"
      ],
      "text/plain": [
       "      LandAverageTemperature\n",
       "1750                8.719364\n",
       "1751                7.976143\n",
       "1752                5.779833\n",
       "1753                8.388083\n",
       "1754                8.469333"
      ]
     },
     "execution_count": 20,
     "metadata": {},
     "output_type": "execute_result"
    }
   ],
   "source": [
    "# What caused those anomalies?\n",
    "grouped.head()"
   ]
  },
  {
   "cell_type": "code",
   "execution_count": 21,
   "metadata": {
    "collapsed": false,
    "nbpresent": {
     "id": "7303a9fc-ef70-4da9-be47-a7ac4d6a992f"
    }
   },
   "outputs": [
    {
     "data": {
      "text/html": [
       "<div>\n",
       "<table border=\"1\" class=\"dataframe\">\n",
       "  <thead>\n",
       "    <tr style=\"text-align: right;\">\n",
       "      <th></th>\n",
       "      <th>dt</th>\n",
       "      <th>LandAverageTemperature</th>\n",
       "    </tr>\n",
       "  </thead>\n",
       "  <tbody>\n",
       "    <tr>\n",
       "      <th>24</th>\n",
       "      <td>1752-01-01</td>\n",
       "      <td>0.348</td>\n",
       "    </tr>\n",
       "    <tr>\n",
       "      <th>25</th>\n",
       "      <td>1752-02-01</td>\n",
       "      <td>NaN</td>\n",
       "    </tr>\n",
       "    <tr>\n",
       "      <th>26</th>\n",
       "      <td>1752-03-01</td>\n",
       "      <td>5.806</td>\n",
       "    </tr>\n",
       "    <tr>\n",
       "      <th>27</th>\n",
       "      <td>1752-04-01</td>\n",
       "      <td>8.265</td>\n",
       "    </tr>\n",
       "    <tr>\n",
       "      <th>28</th>\n",
       "      <td>1752-05-01</td>\n",
       "      <td>NaN</td>\n",
       "    </tr>\n",
       "    <tr>\n",
       "      <th>29</th>\n",
       "      <td>1752-06-01</td>\n",
       "      <td>NaN</td>\n",
       "    </tr>\n",
       "    <tr>\n",
       "      <th>30</th>\n",
       "      <td>1752-07-01</td>\n",
       "      <td>NaN</td>\n",
       "    </tr>\n",
       "    <tr>\n",
       "      <th>31</th>\n",
       "      <td>1752-08-01</td>\n",
       "      <td>NaN</td>\n",
       "    </tr>\n",
       "    <tr>\n",
       "      <th>32</th>\n",
       "      <td>1752-09-01</td>\n",
       "      <td>NaN</td>\n",
       "    </tr>\n",
       "    <tr>\n",
       "      <th>33</th>\n",
       "      <td>1752-10-01</td>\n",
       "      <td>7.839</td>\n",
       "    </tr>\n",
       "    <tr>\n",
       "      <th>34</th>\n",
       "      <td>1752-11-01</td>\n",
       "      <td>7.335</td>\n",
       "    </tr>\n",
       "    <tr>\n",
       "      <th>35</th>\n",
       "      <td>1752-12-01</td>\n",
       "      <td>5.086</td>\n",
       "    </tr>\n",
       "  </tbody>\n",
       "</table>\n",
       "</div>"
      ],
      "text/plain": [
       "            dt  LandAverageTemperature\n",
       "24  1752-01-01                   0.348\n",
       "25  1752-02-01                     NaN\n",
       "26  1752-03-01                   5.806\n",
       "27  1752-04-01                   8.265\n",
       "28  1752-05-01                     NaN\n",
       "29  1752-06-01                     NaN\n",
       "30  1752-07-01                     NaN\n",
       "31  1752-08-01                     NaN\n",
       "32  1752-09-01                     NaN\n",
       "33  1752-10-01                   7.839\n",
       "34  1752-11-01                   7.335\n",
       "35  1752-12-01                   5.086"
      ]
     },
     "execution_count": 21,
     "metadata": {},
     "output_type": "execute_result"
    }
   ],
   "source": [
    "# Check what happened in 1752\n",
    "df[times.year == 1752]"
   ]
  },
  {
   "cell_type": "code",
   "execution_count": 22,
   "metadata": {
    "collapsed": false,
    "nbpresent": {
     "id": "c2c64a71-c936-464b-9394-52d85226f804"
    }
   },
   "outputs": [
    {
     "data": {
      "text/html": [
       "<div>\n",
       "<table border=\"1\" class=\"dataframe\">\n",
       "  <thead>\n",
       "    <tr style=\"text-align: right;\">\n",
       "      <th></th>\n",
       "      <th>dt</th>\n",
       "      <th>LandAverageTemperature</th>\n",
       "    </tr>\n",
       "  </thead>\n",
       "  <tbody>\n",
       "    <tr>\n",
       "      <th>10</th>\n",
       "      <td>1750-11-01</td>\n",
       "      <td>NaN</td>\n",
       "    </tr>\n",
       "    <tr>\n",
       "      <th>16</th>\n",
       "      <td>1751-05-01</td>\n",
       "      <td>NaN</td>\n",
       "    </tr>\n",
       "    <tr>\n",
       "      <th>18</th>\n",
       "      <td>1751-07-01</td>\n",
       "      <td>NaN</td>\n",
       "    </tr>\n",
       "    <tr>\n",
       "      <th>21</th>\n",
       "      <td>1751-10-01</td>\n",
       "      <td>NaN</td>\n",
       "    </tr>\n",
       "    <tr>\n",
       "      <th>22</th>\n",
       "      <td>1751-11-01</td>\n",
       "      <td>NaN</td>\n",
       "    </tr>\n",
       "    <tr>\n",
       "      <th>23</th>\n",
       "      <td>1751-12-01</td>\n",
       "      <td>NaN</td>\n",
       "    </tr>\n",
       "    <tr>\n",
       "      <th>25</th>\n",
       "      <td>1752-02-01</td>\n",
       "      <td>NaN</td>\n",
       "    </tr>\n",
       "    <tr>\n",
       "      <th>28</th>\n",
       "      <td>1752-05-01</td>\n",
       "      <td>NaN</td>\n",
       "    </tr>\n",
       "    <tr>\n",
       "      <th>29</th>\n",
       "      <td>1752-06-01</td>\n",
       "      <td>NaN</td>\n",
       "    </tr>\n",
       "    <tr>\n",
       "      <th>30</th>\n",
       "      <td>1752-07-01</td>\n",
       "      <td>NaN</td>\n",
       "    </tr>\n",
       "    <tr>\n",
       "      <th>31</th>\n",
       "      <td>1752-08-01</td>\n",
       "      <td>NaN</td>\n",
       "    </tr>\n",
       "    <tr>\n",
       "      <th>32</th>\n",
       "      <td>1752-09-01</td>\n",
       "      <td>NaN</td>\n",
       "    </tr>\n",
       "  </tbody>\n",
       "</table>\n",
       "</div>"
      ],
      "text/plain": [
       "            dt  LandAverageTemperature\n",
       "10  1750-11-01                     NaN\n",
       "16  1751-05-01                     NaN\n",
       "18  1751-07-01                     NaN\n",
       "21  1751-10-01                     NaN\n",
       "22  1751-11-01                     NaN\n",
       "23  1751-12-01                     NaN\n",
       "25  1752-02-01                     NaN\n",
       "28  1752-05-01                     NaN\n",
       "29  1752-06-01                     NaN\n",
       "30  1752-07-01                     NaN\n",
       "31  1752-08-01                     NaN\n",
       "32  1752-09-01                     NaN"
      ]
     },
     "execution_count": 22,
     "metadata": {},
     "output_type": "execute_result"
    }
   ],
   "source": [
    "# There are a lot of null values! What else?\n",
    "df[np.isnan(df['LandAverageTemperature'])]"
   ]
  },
  {
   "cell_type": "code",
   "execution_count": 23,
   "metadata": {
    "collapsed": false
   },
   "outputs": [],
   "source": [
    "# Use previous valid observation to fill gap\n",
    "df['LandAverageTemperature'] = df['LandAverageTemperature'].fillna(method='ffill')"
   ]
  },
  {
   "cell_type": "code",
   "execution_count": 24,
   "metadata": {
    "collapsed": false,
    "nbpresent": {
     "id": "7a663f88-84af-4f5f-8a36-6e4601b7bd0d"
    }
   },
   "outputs": [
    {
     "data": {
      "image/png": "[encoded data removed]",
      "text/plain": [
       "<matplotlib.figure.Figure at 0x115b593d0>"
      ]
     },
     "metadata": {},
     "output_type": "display_data"
    }
   ],
   "source": [
    "# Regroup and plot\n",
    "grouped = df.groupby([times.year]).mean()\n",
    "\n",
    "# Better, but still not perfect\n",
    "# What are some other ways to fill the NaN values?\n",
    "plt.figure(figsize = (15, 5))\n",
    "plt.plot(grouped['LandAverageTemperature'])\n",
    "plt.show()"
   ]
  },
  {
   "cell_type": "markdown",
   "metadata": {},
   "source": [
    "## Modeling a Dataset"
   ]
  },
  {
   "cell_type": "code",
   "execution_count": 25,
   "metadata": {
    "collapsed": true
   },
   "outputs": [],
   "source": [
    "# Let's model!\n",
    "from sklearn.linear_model import LinearRegression as LinReg"
   ]
  },
  {
   "cell_type": "code",
   "execution_count": 26,
   "metadata": {
    "collapsed": false
   },
   "outputs": [],
   "source": [
    "x = grouped.index.values.reshape(-1, 1)\n",
    "y = grouped['LandAverageTemperature'].values"
   ]
  },
  {
   "cell_type": "code",
   "execution_count": 27,
   "metadata": {
    "collapsed": false
   },
   "outputs": [
    {
     "name": "stdout",
     "output_type": "stream",
     "text": [
      "Accuracy: 0.376683227531\n"
     ]
    }
   ],
   "source": [
    "reg = LinReg()\n",
    "reg.fit(x, y)\n",
    "y_preds = reg.predict(x)\n",
    "print(\"Accuracy: \" + str(reg.score(x, y)))"
   ]
  },
  {
   "cell_type": "code",
   "execution_count": 28,
   "metadata": {
    "collapsed": false
   },
   "outputs": [
    {
     "data": {
      "text/plain": [
       "<matplotlib.collections.PathCollection at 0x11aa758d0>"
      ]
     },
     "execution_count": 28,
     "metadata": {},
     "output_type": "execute_result"
    },
    {
     "data": {
      "image/png": "[encoded data removed]",
      "text/plain": [
       "<matplotlib.figure.Figure at 0x115d6d610>"
      ]
     },
     "metadata": {},
     "output_type": "display_data"
    }
   ],
   "source": [
    "plt.figure(figsize = (15, 5))\n",
    "plt.title(\"Linear Regression\")\n",
    "plt.scatter(x = x, y = y_preds)\n",
    "plt.scatter(x = x, y = y, c = \"r\")"
   ]
  },
  {
   "cell_type": "code",
   "execution_count": 29,
   "metadata": {
    "collapsed": false
   },
   "outputs": [
    {
     "data": {
      "text/plain": [
       "array([ 9.14631486])"
      ]
     },
     "execution_count": 29,
     "metadata": {},
     "output_type": "execute_result"
    }
   ],
   "source": [
    "reg.predict(2050)"
   ]
  }
 ],
 "metadata": {
  "anaconda-cloud": {},
  "kernelspec": {
   "display_name": "Python [Root]",
   "language": "python",
   "name": "Python [Root]"
  },
  "language_info": {
   "codemirror_mode": {
    "name": "ipython",
    "version": 2
   },
   "file_extension": ".py",
   "mimetype": "text/x-python",
   "name": "python",
   "nbconvert_exporter": "python",
   "pygments_lexer": "ipython2",
   "version": "2.7.12"
  },
  "nbpresent": {
   "slides": {
    "165e486a-3c1a-4742-89d1-d45e40f94eb4": {
     "id": "165e486a-3c1a-4742-89d1-d45e40f94eb4",
     "prev": "f8cae41e-f1b6-4a75-921a-845bd2f90e2a",
     "regions": {
      "67c7027e-1cb1-4a5e-b428-e774a5b2f1eb": {
       "attrs": {
        "height": 0.8,
        "width": 0.8,
        "x": 0.1,
        "y": 0.1
       },
       "content": {
        "cell": "86be01c0-672b-49c8-a02e-fce4ec26cbca",
        "part": "whole"
       },
       "id": "67c7027e-1cb1-4a5e-b428-e774a5b2f1eb"
      }
     }
    },
    "2ee719e1-da35-4451-ab4a-385e4a407894": {
     "id": "2ee719e1-da35-4451-ab4a-385e4a407894",
     "prev": "542b012b-af6f-428f-b157-088a71b6a42e",
     "regions": {
      "070ea23a-cb64-4a86-9642-7ba44fc5d7ec": {
       "attrs": {
        "height": 0.8,
        "width": 0.8,
        "x": 0.1,
        "y": 0.1
       },
       "content": {
        "cell": "c265d105-df81-42bf-89c3-ed51584fa44b",
        "part": "whole"
       },
       "id": "070ea23a-cb64-4a86-9642-7ba44fc5d7ec"
      }
     }
    },
    "4fbb4ac6-443e-4e93-b788-5ceaa12a848d": {
     "id": "4fbb4ac6-443e-4e93-b788-5ceaa12a848d",
     "prev": "165e486a-3c1a-4742-89d1-d45e40f94eb4",
     "regions": {
      "edbb6637-ad9c-4c85-9ee5-be684ef9c985": {
       "attrs": {
        "height": 0.8,
        "width": 0.8,
        "x": 0.1,
        "y": 0.1
       },
       "content": {
        "cell": "9b43f893-f7f0-44f9-9eee-6b842110bc1e",
        "part": "whole"
       },
       "id": "edbb6637-ad9c-4c85-9ee5-be684ef9c985"
      }
     },
     "theme": null
    },
    "542b012b-af6f-428f-b157-088a71b6a42e": {
     "id": "542b012b-af6f-428f-b157-088a71b6a42e",
     "prev": "991d8af0-a81c-4aeb-b969-8539899b3430",
     "regions": {
      "b2811fcc-7786-4f6f-bb45-053618ae2bfb": {
       "attrs": {
        "height": 0.8,
        "width": 0.8,
        "x": 0.1,
        "y": 0.1
       },
       "content": {
        "cell": "c2c64a71-c936-464b-9394-52d85226f804",
        "part": "whole"
       },
       "id": "b2811fcc-7786-4f6f-bb45-053618ae2bfb"
      }
     }
    },
    "70c256f1-cce7-44ab-8127-8b32c756d1d2": {
     "id": "70c256f1-cce7-44ab-8127-8b32c756d1d2",
     "prev": "b08181e4-809f-4fd0-a000-74fe80b565fd",
     "regions": {
      "40980a20-f80c-433e-9372-d674daeb078d": {
       "attrs": {
        "height": 0.8,
        "width": 0.8,
        "x": 0.1,
        "y": 0.1
       },
       "content": {
        "cell": "d039a9d3-37b3-48c5-b6e9-586fd2f8a0a4",
        "part": "whole"
       },
       "id": "40980a20-f80c-433e-9372-d674daeb078d"
      }
     }
    },
    "84e16a43-953b-4d8b-b6d1-b2665d21463a": {
     "id": "84e16a43-953b-4d8b-b6d1-b2665d21463a",
     "prev": "70c256f1-cce7-44ab-8127-8b32c756d1d2",
     "regions": {
      "f5035328-3582-43d2-8711-87bb47371fd1": {
       "attrs": {
        "height": 0.8,
        "width": 0.8,
        "x": 0.1,
        "y": 0.1
       },
       "content": {
        "cell": "70e7a423-3012-457d-a1ae-ba5a390274a8",
        "part": "whole"
       },
       "id": "f5035328-3582-43d2-8711-87bb47371fd1"
      }
     }
    },
    "933e1aba-e1ca-4b31-8c0b-8189298d0980": {
     "id": "933e1aba-e1ca-4b31-8c0b-8189298d0980",
     "prev": null,
     "regions": {
      "31900cb9-e154-4ac7-a49f-1325ec8d18d8": {
       "attrs": {
        "height": 0.8,
        "width": 0.8,
        "x": 0.1,
        "y": 0.1
       },
       "content": {
        "cell": "6df94ffd-6cfc-4e37-936e-8544cb560bff",
        "part": "whole"
       },
       "id": "31900cb9-e154-4ac7-a49f-1325ec8d18d8"
      }
     }
    },
    "991d8af0-a81c-4aeb-b969-8539899b3430": {
     "id": "991d8af0-a81c-4aeb-b969-8539899b3430",
     "prev": "d1698a72-01ce-47c1-8a60-d34c74d03a42",
     "regions": {
      "cc72e0cb-bc3f-41d7-9f1e-4c145165bf63": {
       "attrs": {
        "height": 0.8,
        "width": 0.8,
        "x": 0.1,
        "y": 0.1
       },
       "content": {
        "cell": "7303a9fc-ef70-4da9-be47-a7ac4d6a992f",
        "part": "whole"
       },
       "id": "cc72e0cb-bc3f-41d7-9f1e-4c145165bf63"
      }
     }
    },
    "b08181e4-809f-4fd0-a000-74fe80b565fd": {
     "id": "b08181e4-809f-4fd0-a000-74fe80b565fd",
     "prev": "933e1aba-e1ca-4b31-8c0b-8189298d0980",
     "regions": {
      "0d5e10b6-4711-433f-8d6b-36fe62eb265f": {
       "attrs": {
        "height": 0.8,
        "width": 0.8,
        "x": 0.1,
        "y": 0.1
       },
       "content": {
        "cell": "2d696191-7015-445c-8426-35c6809ac315",
        "part": "whole"
       },
       "id": "0d5e10b6-4711-433f-8d6b-36fe62eb265f"
      }
     }
    },
    "caca565b-727c-428d-9bb5-fe28ad7d2a25": {
     "id": "caca565b-727c-428d-9bb5-fe28ad7d2a25",
     "prev": "84e16a43-953b-4d8b-b6d1-b2665d21463a",
     "regions": {
      "4193db1c-eff8-4607-9f25-c61f807554a3": {
       "attrs": {
        "height": 0.8,
        "width": 0.8,
        "x": 0.1,
        "y": 0.1
       },
       "content": {
        "cell": "246ab714-ce25-42f2-8667-7a272a2734fd",
        "part": "whole"
       },
       "id": "4193db1c-eff8-4607-9f25-c61f807554a3"
      }
     }
    },
    "d1698a72-01ce-47c1-8a60-d34c74d03a42": {
     "id": "d1698a72-01ce-47c1-8a60-d34c74d03a42",
     "prev": "ec91d8ae-4654-43bf-9a72-db0c509d578a",
     "regions": {
      "04f568d2-4eef-4b91-891d-93d360cb7738": {
       "attrs": {
        "height": 0.8,
        "width": 0.8,
        "x": 0.1,
        "y": 0.1
       },
       "content": {
        "cell": "6d4744d1-cbe3-4b0e-b033-7989b1c40354",
        "part": "whole"
       },
       "id": "04f568d2-4eef-4b91-891d-93d360cb7738"
      }
     }
    },
    "ec91d8ae-4654-43bf-9a72-db0c509d578a": {
     "id": "ec91d8ae-4654-43bf-9a72-db0c509d578a",
     "prev": "eec7a445-1407-4a09-8b82-6c529822efa9",
     "regions": {
      "c341aed8-e595-400d-9286-03a44ec7beb0": {
       "attrs": {
        "height": 0.8,
        "width": 0.8,
        "x": 0.1,
        "y": 0.1
       },
       "content": {
        "cell": "974edbc8-b2c7-45e7-8f0d-be63e240d7c8",
        "part": "whole"
       },
       "id": "c341aed8-e595-400d-9286-03a44ec7beb0"
      }
     }
    },
    "eec7a445-1407-4a09-8b82-6c529822efa9": {
     "id": "eec7a445-1407-4a09-8b82-6c529822efa9",
     "prev": "caca565b-727c-428d-9bb5-fe28ad7d2a25",
     "regions": {
      "5be507f5-00cf-458d-b7c3-b39dee7124fb": {
       "attrs": {
        "height": 0.8,
        "width": 0.8,
        "x": 0.1,
        "y": 0.1
       },
       "content": {
        "cell": "ec20b8c1-90f1-4e12-bff5-8fe555923c77",
        "part": "whole"
       },
       "id": "5be507f5-00cf-458d-b7c3-b39dee7124fb"
      }
     }
    },
    "f8cae41e-f1b6-4a75-921a-845bd2f90e2a": {
     "id": "f8cae41e-f1b6-4a75-921a-845bd2f90e2a",
     "prev": "2ee719e1-da35-4451-ab4a-385e4a407894",
     "regions": {
      "882b72ac-f615-4b1f-95a4-05b3ff4dda78": {
       "attrs": {
        "height": 0.8,
        "width": 0.8,
        "x": 0.1,
        "y": 0.1
       },
       "content": {
        "cell": "7a663f88-84af-4f5f-8a36-6e4601b7bd0d",
        "part": "whole"
       },
       "id": "882b72ac-f615-4b1f-95a4-05b3ff4dda78"
      }
     }
    }
   },
   "themes": {
    "default": "d05e52ae-62a1-461e-984a-2ee8217db607",
    "theme": {
     "d05e52ae-62a1-461e-984a-2ee8217db607": {
      "id": "d05e52ae-62a1-461e-984a-2ee8217db607",
      "palette": {
       "19cc588f-0593-49c9-9f4b-e4d7cc113b1c": {
        "id": "19cc588f-0593-49c9-9f4b-e4d7cc113b1c",
        "rgb": [
         252,
         252,
         252
        ]
       },
       "31af15d2-7e15-44c5-ab5e-e04b16a89eff": {
        "id": "31af15d2-7e15-44c5-ab5e-e04b16a89eff",
        "rgb": [
         68,
         68,
         68
        ]
       },
       "50f92c45-a630-455b-aec3-788680ec7410": {
        "id": "50f92c45-a630-455b-aec3-788680ec7410",
        "rgb": [
         155,
         177,
         192
        ]
       },
       "c5cc3653-2ee1-402a-aba2-7caae1da4f6c": {
        "id": "c5cc3653-2ee1-402a-aba2-7caae1da4f6c",
        "rgb": [
         43,
         126,
         184
        ]
       },
       "efa7f048-9acb-414c-8b04-a26811511a21": {
        "id": "efa7f048-9acb-414c-8b04-a26811511a21",
        "rgb": [
         25.118061674008803,
         73.60176211453744,
         107.4819383259912
        ]
       }
      },
      "rules": {
       "blockquote": {
        "color": "50f92c45-a630-455b-aec3-788680ec7410"
       },
       "code": {
        "font-family": "Anonymous Pro"
       },
       "h1": {
        "color": "c5cc3653-2ee1-402a-aba2-7caae1da4f6c",
        "font-family": "Lato",
        "font-size": 8
       },
       "h2": {
        "color": "c5cc3653-2ee1-402a-aba2-7caae1da4f6c",
        "font-family": "Lato",
        "font-size": 6
       },
       "h3": {
        "color": "50f92c45-a630-455b-aec3-788680ec7410",
        "font-family": "Lato",
        "font-size": 5.5
       },
       "h4": {
        "color": "c5cc3653-2ee1-402a-aba2-7caae1da4f6c",
        "font-family": "Lato",
        "font-size": 5
       },
       "h5": {
        "font-family": "Lato"
       },
       "h6": {
        "font-family": "Lato"
       },
       "h7": {
        "font-family": "Lato"
       },
       "pre": {
        "font-family": "Anonymous Pro",
        "font-size": 4
       }
      },
      "text-base": {
       "font-family": "Merriweather",
       "font-size": 4
      }
     }
    }
   }
  }
 },
 "nbformat": 4,
 "nbformat_minor": 0
}
